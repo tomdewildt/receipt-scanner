{
 "cells": [
  {
   "cell_type": "markdown",
   "id": "46101659-0a7f-4778-a2d4-7505882305ee",
   "metadata": {},
   "source": [
    "# 2. Receipt Regex\n",
    "\n",
    "[Regex101](https://regex101.com/r/quIQtp/1)"
   ]
  },
  {
   "cell_type": "code",
   "execution_count": 1,
   "id": "dcf9c618-a61e-43b5-88c6-be25d6446fc9",
   "metadata": {},
   "outputs": [],
   "source": [
    "import re"
   ]
  },
  {
   "cell_type": "code",
   "execution_count": 2,
   "id": "9f1d658a-359f-4a53-93a2-86e5555e64ac",
   "metadata": {},
   "outputs": [],
   "source": [
    "TEXT = \"\"\"\n",
    "\"Tel 040 2452480\n",
    "\n",
    "   \n",
    "\n",
    "DOMINO-SERVER #11\n",
    "\n",
    "do 11 apr 19 22:30\n",
    "Benjamin\n",
    "Tafel 206\n",
    "\n",
    "+ 0000\n",
    "\n",
    "   \n",
    "\n",
    "   \n",
    "      \n",
    "  \n",
    "\n",
    "5 Witte Trappist (3.70) 18.50\n",
    "\n",
    "          \n",
    "     \n",
    "    \n",
    "\n",
    "1 Karmeliet 6.20\n",
    "3 Le Fort Tripel (3.80) 11.40\n",
    "1 Trappist Tripel 4.50\n",
    "1 Trappist Blond 4.20\n",
    "2 Grote Luxe Bittergarnituu (14.80) 29.60\n",
    "\n",
    "   \n",
    "\n",
    "r\n",
    "\n",
    "   \n",
    "\n",
    "2x Mayonaise & Chilisaus\n",
    "\n",
    "  \n",
    "\n",
    "Te betalen\n",
    "\n",
    "Bedankt en tot ziens |\n",
    "\n",
    "\"\"\""
   ]
  },
  {
   "cell_type": "markdown",
   "id": "bbdd6659-6642-419f-a214-39c01b0ea092",
   "metadata": {},
   "source": [
    "## 2.1 Test Regex\n",
    "\n",
    "`^([0-9]{1,3})` : Match digit `0-9` between `1` and `3` times\n",
    "\n",
    "`(.*?)` : Match `any` characters between `1` and `unlimited` times (as few as possible)\n",
    "\n",
    "`([0-9]{1,3}[.,;]\\d{1,2})$` : Match digit `0-9` between `1` and `3` times then `.`, `,` or `;` and then digit `0-9` between `1` and `2` times"
   ]
  },
  {
   "cell_type": "code",
   "execution_count": 3,
   "id": "cccdd9bf-6358-431a-b5a7-9304041797f0",
   "metadata": {},
   "outputs": [
    {
     "data": {
      "text/plain": [
       "[('5', ' Witte Trappist (3.70) ', '18.50'),\n",
       " ('1', ' Karmeliet ', '6.20'),\n",
       " ('3', ' Le Fort Tripel (3.80) ', '11.40'),\n",
       " ('1', ' Trappist Tripel ', '4.50'),\n",
       " ('1', ' Trappist Blond ', '4.20'),\n",
       " ('2', ' Grote Luxe Bittergarnituu (14.80) ', '29.60')]"
      ]
     },
     "execution_count": 3,
     "metadata": {},
     "output_type": "execute_result"
    }
   ],
   "source": [
    "regex = re.compile(r\"^([0-9]{1,3})(.*?)([0-9]{1,3}[.,;]\\d{1,2})$\", flags=re.MULTILINE)\n",
    "\n",
    "regex.findall(TEXT)"
   ]
  }
 ],
 "metadata": {
  "kernelspec": {
   "display_name": "Python 3 (ipykernel)",
   "language": "python",
   "name": "python3"
  },
  "language_info": {
   "codemirror_mode": {
    "name": "ipython",
    "version": 3
   },
   "file_extension": ".py",
   "mimetype": "text/x-python",
   "name": "python",
   "nbconvert_exporter": "python",
   "pygments_lexer": "ipython3",
   "version": "3.8.10"
  }
 },
 "nbformat": 4,
 "nbformat_minor": 5
}
